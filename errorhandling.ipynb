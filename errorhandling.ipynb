{
 "cells": [
  {
   "cell_type": "code",
   "execution_count": 1,
   "id": "6aaa8dd4-ae13-4a0e-bee8-7e08bb0f06a7",
   "metadata": {},
   "outputs": [
    {
     "name": "stdout",
     "output_type": "stream",
     "text": [
      "1\n",
      "2\n",
      "3\n",
      "4\n",
      "5\n",
      "6\n",
      "7\n"
     ]
    }
   ],
   "source": [
    "l=[1,2,3,4,5,6,7]\n",
    "for i in range(len(l)):\n",
    "    print(l[i])"
   ]
  },
  {
   "cell_type": "code",
   "execution_count": 2,
   "id": "71638288-c6f4-4579-9960-73798dbc2dd0",
   "metadata": {},
   "outputs": [
    {
     "name": "stdout",
     "output_type": "stream",
     "text": [
      "1\n",
      "2\n",
      "3\n",
      "4\n",
      "5\n",
      "6\n",
      "7\n"
     ]
    },
    {
     "ename": "IndexError",
     "evalue": "list index out of range",
     "output_type": "error",
     "traceback": [
      "\u001b[1;31m---------------------------------------------------------------------------\u001b[0m",
      "\u001b[1;31mIndexError\u001b[0m                                Traceback (most recent call last)",
      "Cell \u001b[1;32mIn[2], line 3\u001b[0m\n\u001b[0;32m      1\u001b[0m l\u001b[38;5;241m=\u001b[39m[\u001b[38;5;241m1\u001b[39m,\u001b[38;5;241m2\u001b[39m,\u001b[38;5;241m3\u001b[39m,\u001b[38;5;241m4\u001b[39m,\u001b[38;5;241m5\u001b[39m,\u001b[38;5;241m6\u001b[39m,\u001b[38;5;241m7\u001b[39m]\n\u001b[0;32m      2\u001b[0m \u001b[38;5;28;01mfor\u001b[39;00m i \u001b[38;5;129;01min\u001b[39;00m \u001b[38;5;28mrange\u001b[39m(\u001b[38;5;28mlen\u001b[39m(l)\u001b[38;5;241m+\u001b[39m\u001b[38;5;241m1\u001b[39m):\n\u001b[1;32m----> 3\u001b[0m     \u001b[38;5;28mprint\u001b[39m(\u001b[43ml\u001b[49m\u001b[43m[\u001b[49m\u001b[43mi\u001b[49m\u001b[43m]\u001b[49m)\n",
      "\u001b[1;31mIndexError\u001b[0m: list index out of range"
     ]
    }
   ],
   "source": [
    "l=[1,2,3,4,5,6,7]\n",
    "for i in range(len(l)+1):\n",
    "    print(l[i])"
   ]
  },
  {
   "cell_type": "code",
   "execution_count": 5,
   "id": "72e29c94-5fbe-4417-a2fd-0fb19079d076",
   "metadata": {},
   "outputs": [
    {
     "name": "stdout",
     "output_type": "stream",
     "text": [
      "1\n",
      "2\n",
      "3\n",
      "4\n",
      "5\n",
      "6\n",
      "7\n",
      "index exceeded\n"
     ]
    }
   ],
   "source": [
    "l=[1,2,3,4,5,6,7]\n",
    "for i in range(len(l)+1):\n",
    "    try:\n",
    "        print(l[i])\n",
    "    except IndexError:\n",
    "        print('index exceeded')\n",
    "        break"
   ]
  },
  {
   "cell_type": "code",
   "execution_count": 6,
   "id": "86ab17f3-41c5-45d7-a22e-44f554c2274e",
   "metadata": {},
   "outputs": [
    {
     "name": "stdout",
     "output_type": "stream",
     "text": [
      "1\n",
      "2\n",
      "3\n",
      "4\n",
      "5\n",
      "6\n",
      "7\n",
      "list index out of range\n"
     ]
    }
   ],
   "source": [
    "l=[1,2,3,4,5,6,7]\n",
    "for i in range(len(l)+1):\n",
    "    try:\n",
    "        print(l[i])\n",
    "    except Exception as e:\n",
    "        print(e)\n",
    "        "
   ]
  },
  {
   "cell_type": "code",
   "execution_count": 7,
   "id": "25d4927a-7e2e-44de-9167-181acde02650",
   "metadata": {},
   "outputs": [
    {
     "name": "stdout",
     "output_type": "stream",
     "text": [
      "1\n",
      "exceution successful\n",
      "2\n",
      "exceution successful\n",
      "3\n",
      "exceution successful\n",
      "4\n",
      "exceution successful\n",
      "5\n",
      "exceution successful\n",
      "6\n",
      "exceution successful\n",
      "7\n",
      "exceution successful\n",
      "list index out of range\n",
      "exceution successful\n"
     ]
    }
   ],
   "source": [
    "l=[1,2,3,4,5,6,7]\n",
    "for i in range(len(l)+1):\n",
    "    try:\n",
    "        print(l[i])\n",
    "    except Exception as e:\n",
    "        print(e)\n",
    "    finally:\n",
    "        print('exceution successful')\n",
    "        "
   ]
  },
  {
   "cell_type": "code",
   "execution_count": 8,
   "id": "c98f8e6b-2d84-4bd2-988f-a860d6512269",
   "metadata": {},
   "outputs": [],
   "source": [
    "def abc(a,b):\n",
    "    try:\n",
    "        c=a/b\n",
    "    except:\n",
    "        print('wrong')\n",
    "    else:\n",
    "        print(c)"
   ]
  },
  {
   "cell_type": "code",
   "execution_count": 9,
   "id": "a4b81664-7e13-4ce7-8210-51952cba435e",
   "metadata": {},
   "outputs": [
    {
     "name": "stdout",
     "output_type": "stream",
     "text": [
      "0.8571428571428571\n"
     ]
    }
   ],
   "source": [
    "abc(6,7)"
   ]
  },
  {
   "cell_type": "code",
   "execution_count": 10,
   "id": "463629b5-b5b6-470e-ac15-405c58855132",
   "metadata": {},
   "outputs": [
    {
     "name": "stdout",
     "output_type": "stream",
     "text": [
      "wrong\n"
     ]
    }
   ],
   "source": [
    "abc(3,0)"
   ]
  },
  {
   "cell_type": "code",
   "execution_count": 12,
   "id": "106b4156-0e72-47eb-8e68-3c2c1a116e8d",
   "metadata": {},
   "outputs": [],
   "source": [
    "def zeronotallowed(a,b):\n",
    "    if a==0 or b==0:\n",
    "        raise print('zero not allowed')\n",
    "    else:\n",
    "        print('all ok')"
   ]
  },
  {
   "cell_type": "code",
   "execution_count": 13,
   "id": "87fc537a-5189-40d7-bb48-6c3355355774",
   "metadata": {},
   "outputs": [
    {
     "ename": "NameError",
     "evalue": "name 'zero' is not defined",
     "output_type": "error",
     "traceback": [
      "\u001b[1;31m---------------------------------------------------------------------------\u001b[0m",
      "\u001b[1;31mNameError\u001b[0m                                 Traceback (most recent call last)",
      "Cell \u001b[1;32mIn[13], line 1\u001b[0m\n\u001b[1;32m----> 1\u001b[0m \u001b[43mzero\u001b[49m(\u001b[38;5;241m0\u001b[39m,\u001b[38;5;241m7\u001b[39m)\n",
      "\u001b[1;31mNameError\u001b[0m: name 'zero' is not defined"
     ]
    }
   ],
   "source": [
    "zero(0,7)"
   ]
  },
  {
   "cell_type": "code",
   "execution_count": 14,
   "id": "3934d37e-90f3-4617-95d1-be140ff4d73b",
   "metadata": {},
   "outputs": [],
   "source": [
    "def zeronotallowed(a,b):\n",
    "    if a==0 or b==0:\n",
    "        raise ValueError('zero not allowed')\n",
    "    else:\n",
    "        print('all ok')"
   ]
  },
  {
   "cell_type": "code",
   "execution_count": 15,
   "id": "5f6cd584-f886-4eca-873d-099389177fde",
   "metadata": {},
   "outputs": [
    {
     "name": "stdout",
     "output_type": "stream",
     "text": [
      "0.0\n"
     ]
    }
   ],
   "source": [
    "abc(0,7)\n"
   ]
  },
  {
   "cell_type": "code",
   "execution_count": null,
   "id": "1cd91efb-2a1a-4054-b356-0215b3b7b7b0",
   "metadata": {},
   "outputs": [],
   "source": []
  },
  {
   "cell_type": "code",
   "execution_count": null,
   "id": "30ffd10c-b0fe-488a-87a5-2d24de17ddf3",
   "metadata": {},
   "outputs": [],
   "source": []
  }
 ],
 "metadata": {
  "kernelspec": {
   "display_name": "Python 3 (ipykernel)",
   "language": "python",
   "name": "python3"
  },
  "language_info": {
   "codemirror_mode": {
    "name": "ipython",
    "version": 3
   },
   "file_extension": ".py",
   "mimetype": "text/x-python",
   "name": "python",
   "nbconvert_exporter": "python",
   "pygments_lexer": "ipython3",
   "version": "3.10.9"
  }
 },
 "nbformat": 4,
 "nbformat_minor": 5
}
