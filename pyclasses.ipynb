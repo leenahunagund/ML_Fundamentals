{
 "cells": [
  {
   "cell_type": "code",
   "execution_count": 1,
   "id": "3ccef35f-0bd1-4718-9691-9fc42d33ca29",
   "metadata": {},
   "outputs": [],
   "source": [
    "##python class"
   ]
  },
  {
   "cell_type": "code",
   "execution_count": 31,
   "id": "29694696-e84a-45cc-8f09-8a60da666bee",
   "metadata": {},
   "outputs": [],
   "source": [
    "#super class\n",
    "class Car:\n",
    "    def __init__(self,car_name,car_color):\n",
    "        self.namecar=car_name\n",
    "        self.colorcar=car_color\n",
    "    def engine(self,eng=\"900 hp\"):\n",
    "        print(f\" the car {self.namecar} ,whos color is {self.colorcar} has engine of {eng}\")"
   ]
  },
  {
   "cell_type": "code",
   "execution_count": 18,
   "id": "c9adf939-d911-44b4-ab6c-630e943ceb7f",
   "metadata": {},
   "outputs": [],
   "source": [
    "A=Car(\"maruti\",\"red\")"
   ]
  },
  {
   "cell_type": "code",
   "execution_count": 19,
   "id": "e96e1079-1b26-45cb-9827-34e4c751e0f7",
   "metadata": {},
   "outputs": [
    {
     "name": "stdout",
     "output_type": "stream",
     "text": [
      " the car maruti ,whos color is red has engine of 900 hp\n"
     ]
    }
   ],
   "source": [
    "A.engine()"
   ]
  },
  {
   "cell_type": "code",
   "execution_count": 23,
   "id": "9da06ad2-c575-4fe6-817b-8caeb5deaec2",
   "metadata": {},
   "outputs": [],
   "source": [
    "B=Car(\"maserati\",\"red\")"
   ]
  },
  {
   "cell_type": "code",
   "execution_count": 24,
   "id": "2a294a75-a90d-452a-9d75-6b637353b3de",
   "metadata": {},
   "outputs": [
    {
     "name": "stdout",
     "output_type": "stream",
     "text": [
      " the car maserati ,whos color is red has engine of 670 hp\n"
     ]
    }
   ],
   "source": [
    "B.engine(\"670 hp\")"
   ]
  },
  {
   "cell_type": "code",
   "execution_count": 25,
   "id": "a9ea754d-c7ca-4b65-9368-c6022b03219d",
   "metadata": {},
   "outputs": [],
   "source": [
    "#inheritance"
   ]
  },
  {
   "cell_type": "code",
   "execution_count": 26,
   "id": "73f78614-65ce-473b-bdf8-e13abca1500d",
   "metadata": {
    "scrolled": true,
    "tags": []
   },
   "outputs": [],
   "source": [
    "#child class\n",
    "class Innova(Car):\n",
    "    def __init__(self,music_name,car_name,car_color):\n",
    "        super().__init__(car_name,car_color)\n",
    "        self.carmusic=music_name\n",
    "    def music_system(self):\n",
    "        print(f\" the car {self.namecar} whos color {self.colorcar} has good music system named {self.carmusic}\")"
   ]
  },
  {
   "cell_type": "code",
   "execution_count": 29,
   "id": "1bf9b946-46bd-440e-9970-05728913a0ea",
   "metadata": {},
   "outputs": [],
   "source": [
    "A=Innova(\"dolby\",\"maserati\",\"black\")"
   ]
  },
  {
   "cell_type": "code",
   "execution_count": 30,
   "id": "52a0cfe9-325d-4c91-be6a-b3f73dd3ab70",
   "metadata": {},
   "outputs": [
    {
     "name": "stdout",
     "output_type": "stream",
     "text": [
      " the car maserati whos color black has good music system named dolby\n"
     ]
    }
   ],
   "source": [
    "A.music_system()"
   ]
  },
  {
   "cell_type": "code",
   "execution_count": 32,
   "id": "1c016dd4-07da-4c4c-a491-8dcf0b43e929",
   "metadata": {},
   "outputs": [
    {
     "name": "stdout",
     "output_type": "stream",
     "text": [
      " the car maserati ,whos color is black has engine of 900 hp\n"
     ]
    }
   ],
   "source": [
    "A.engine()"
   ]
  },
  {
   "cell_type": "code",
   "execution_count": null,
   "id": "4db40ac0-495f-4fa2-9cc6-7122f7e6b421",
   "metadata": {},
   "outputs": [],
   "source": []
  }
 ],
 "metadata": {
  "kernelspec": {
   "display_name": "Python 3 (ipykernel)",
   "language": "python",
   "name": "python3"
  },
  "language_info": {
   "codemirror_mode": {
    "name": "ipython",
    "version": 3
   },
   "file_extension": ".py",
   "mimetype": "text/x-python",
   "name": "python",
   "nbconvert_exporter": "python",
   "pygments_lexer": "ipython3",
   "version": "3.10.9"
  }
 },
 "nbformat": 4,
 "nbformat_minor": 5
}
