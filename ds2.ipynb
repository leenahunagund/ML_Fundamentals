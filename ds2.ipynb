{
 "cells": [
  {
   "cell_type": "code",
   "execution_count": 1,
   "id": "5a317267-bac4-4ccf-8609-42d87c5ec2c3",
   "metadata": {},
   "outputs": [
    {
     "ename": "SyntaxError",
     "evalue": "unterminated string literal (detected at line 1) (2507189558.py, line 1)",
     "output_type": "error",
     "traceback": [
      "\u001b[1;36m  Cell \u001b[1;32mIn[1], line 1\u001b[1;36m\u001b[0m\n\u001b[1;33m    s='hello\u001b[0m\n\u001b[1;37m      ^\u001b[0m\n\u001b[1;31mSyntaxError\u001b[0m\u001b[1;31m:\u001b[0m unterminated string literal (detected at line 1)\n"
     ]
    }
   ],
   "source": [
    "s='hello\n"
   ]
  },
  {
   "cell_type": "code",
   "execution_count": 2,
   "id": "e8b624cd-93ba-4232-9f0b-849955afbec7",
   "metadata": {},
   "outputs": [],
   "source": [
    "s='hello   '"
   ]
  },
  {
   "cell_type": "code",
   "execution_count": 3,
   "id": "32de6449-08a7-47e5-bd69-29fee86f310e",
   "metadata": {},
   "outputs": [
    {
     "data": {
      "text/plain": [
       "'hello   '"
      ]
     },
     "execution_count": 3,
     "metadata": {},
     "output_type": "execute_result"
    }
   ],
   "source": [
    "s.lower()\n"
   ]
  },
  {
   "cell_type": "code",
   "execution_count": 4,
   "id": "714b83b7-e76c-42f6-b762-5489c9f00c41",
   "metadata": {},
   "outputs": [
    {
     "data": {
      "text/plain": [
       "'hello'"
      ]
     },
     "execution_count": 4,
     "metadata": {},
     "output_type": "execute_result"
    }
   ],
   "source": [
    "s.strip()"
   ]
  },
  {
   "cell_type": "code",
   "execution_count": 5,
   "id": "1bd49cf1-48e6-42d1-8279-207707846546",
   "metadata": {},
   "outputs": [
    {
     "data": {
      "text/plain": [
       "'hello'"
      ]
     },
     "execution_count": 5,
     "metadata": {},
     "output_type": "execute_result"
    }
   ],
   "source": [
    "s.rstrip()"
   ]
  },
  {
   "cell_type": "code",
   "execution_count": 6,
   "id": "156a4eda-b9e4-4363-9223-0c2195a5b623",
   "metadata": {},
   "outputs": [
    {
     "data": {
      "text/plain": [
       "-1"
      ]
     },
     "execution_count": 6,
     "metadata": {},
     "output_type": "execute_result"
    }
   ],
   "source": [
    "s.find('q')"
   ]
  },
  {
   "cell_type": "code",
   "execution_count": 7,
   "id": "0fc6acbe-8906-47cb-9de9-2535d2ce2136",
   "metadata": {},
   "outputs": [],
   "source": [
    "s='hi'\n",
    "f='@python'"
   ]
  },
  {
   "cell_type": "code",
   "execution_count": 8,
   "id": "2784d531-c712-44aa-8d2c-eb7aadf8a75c",
   "metadata": {},
   "outputs": [
    {
     "data": {
      "text/plain": [
       "'hi@python'"
      ]
     },
     "execution_count": 8,
     "metadata": {},
     "output_type": "execute_result"
    }
   ],
   "source": [
    "s+f"
   ]
  },
  {
   "cell_type": "code",
   "execution_count": 9,
   "id": "298270bc-956e-41d6-81bc-9179141e9d72",
   "metadata": {},
   "outputs": [
    {
     "data": {
      "text/plain": [
       "list"
      ]
     },
     "execution_count": 9,
     "metadata": {},
     "output_type": "execute_result"
    }
   ],
   "source": [
    "i=[1,'python']\n",
    "type(i)\n"
   ]
  },
  {
   "cell_type": "code",
   "execution_count": 10,
   "id": "2f79b275-0e11-45b1-b6c7-ac7f5ad705ae",
   "metadata": {},
   "outputs": [
    {
     "ename": "SyntaxError",
     "evalue": "unterminated string literal (detected at line 1) (1730016861.py, line 1)",
     "output_type": "error",
     "traceback": [
      "\u001b[1;36m  Cell \u001b[1;32mIn[10], line 1\u001b[1;36m\u001b[0m\n\u001b[1;33m    j=(1,'python)\u001b[0m\n\u001b[1;37m         ^\u001b[0m\n\u001b[1;31mSyntaxError\u001b[0m\u001b[1;31m:\u001b[0m unterminated string literal (detected at line 1)\n"
     ]
    }
   ],
   "source": [
    "j=(1,'python)"
   ]
  },
  {
   "cell_type": "code",
   "execution_count": 11,
   "id": "d63b226b-5b03-4bec-93cf-9a0303ac1274",
   "metadata": {},
   "outputs": [
    {
     "data": {
      "text/plain": [
       "tuple"
      ]
     },
     "execution_count": 11,
     "metadata": {},
     "output_type": "execute_result"
    }
   ],
   "source": [
    "j=(1,'python')\n",
    "type(j)"
   ]
  },
  {
   "cell_type": "code",
   "execution_count": 12,
   "id": "b6a04c5b-ce06-4d43-8e92-e0caa785bbc6",
   "metadata": {},
   "outputs": [
    {
     "ename": "TypeError",
     "evalue": "'tuple' object does not support item assignment",
     "output_type": "error",
     "traceback": [
      "\u001b[1;31m---------------------------------------------------------------------------\u001b[0m",
      "\u001b[1;31mTypeError\u001b[0m                                 Traceback (most recent call last)",
      "Cell \u001b[1;32mIn[12], line 1\u001b[0m\n\u001b[1;32m----> 1\u001b[0m j[\u001b[38;5;241m0\u001b[39m]\u001b[38;5;241m=\u001b[39m\u001b[38;5;241m4\u001b[39m\n",
      "\u001b[1;31mTypeError\u001b[0m: 'tuple' object does not support item assignment"
     ]
    }
   ],
   "source": [
    "j[0]=4"
   ]
  },
  {
   "cell_type": "code",
   "execution_count": 13,
   "id": "10dbbbf1-326d-4981-ad17-1d8b88546f59",
   "metadata": {},
   "outputs": [],
   "source": [
    "i[0]=4"
   ]
  },
  {
   "cell_type": "code",
   "execution_count": 14,
   "id": "0d5b5fac-5644-4ffb-9264-e5d606f5ed1b",
   "metadata": {},
   "outputs": [
    {
     "name": "stdout",
     "output_type": "stream",
     "text": [
      "[4, 'python']\n"
     ]
    }
   ],
   "source": [
    "print(i)"
   ]
  },
  {
   "cell_type": "code",
   "execution_count": 15,
   "id": "d422b295-48de-486e-ae46-10ae1b486761",
   "metadata": {},
   "outputs": [],
   "source": [
    " f='hope'"
   ]
  },
  {
   "cell_type": "code",
   "execution_count": 16,
   "id": "0b41c56e-8f17-4976-9921-beeb25668c70",
   "metadata": {},
   "outputs": [],
   "source": [
    "i[1]='hope'"
   ]
  },
  {
   "cell_type": "code",
   "execution_count": 17,
   "id": "34624056-0302-4f9a-893f-95c3084d0be6",
   "metadata": {},
   "outputs": [
    {
     "name": "stdout",
     "output_type": "stream",
     "text": [
      "[4, 'hope']\n"
     ]
    }
   ],
   "source": [
    "print(i)\n"
   ]
  },
  {
   "cell_type": "code",
   "execution_count": 18,
   "id": "b16e0bf0-fdec-4d0f-813f-a695b3be0724",
   "metadata": {},
   "outputs": [
    {
     "data": {
      "text/plain": [
       "0"
      ]
     },
     "execution_count": 18,
     "metadata": {},
     "output_type": "execute_result"
    }
   ],
   "source": [
    "j.index(1)"
   ]
  },
  {
   "cell_type": "code",
   "execution_count": 19,
   "id": "ebf72ead-143b-419f-9c81-699b59973b09",
   "metadata": {},
   "outputs": [
    {
     "ename": "TypeError",
     "evalue": "'tuple' object does not support item assignment",
     "output_type": "error",
     "traceback": [
      "\u001b[1;31m---------------------------------------------------------------------------\u001b[0m",
      "\u001b[1;31mTypeError\u001b[0m                                 Traceback (most recent call last)",
      "Cell \u001b[1;32mIn[19], line 1\u001b[0m\n\u001b[1;32m----> 1\u001b[0m j[\u001b[38;5;241m1\u001b[39m]\u001b[38;5;241m=\u001b[39m\u001b[38;5;124m'\u001b[39m\u001b[38;5;124mhope\u001b[39m\u001b[38;5;124m'\u001b[39m\n",
      "\u001b[1;31mTypeError\u001b[0m: 'tuple' object does not support item assignment"
     ]
    }
   ],
   "source": [
    "j[1]='hope'"
   ]
  },
  {
   "cell_type": "code",
   "execution_count": 20,
   "id": "9e4eb769-af5d-492c-b5f8-451428521d63",
   "metadata": {},
   "outputs": [
    {
     "data": {
      "text/plain": [
       "set"
      ]
     },
     "execution_count": 20,
     "metadata": {},
     "output_type": "execute_result"
    }
   ],
   "source": [
    "s={1,2,3}\n",
    "type(s)\n"
   ]
  },
  {
   "cell_type": "code",
   "execution_count": 21,
   "id": "f12a214e-78ac-4e32-a625-34b47015ecb8",
   "metadata": {},
   "outputs": [],
   "source": [
    "j=[1,1,2,2,4,4,4,4]"
   ]
  },
  {
   "cell_type": "code",
   "execution_count": 22,
   "id": "1678879e-da0f-45c1-8ebc-dedc3ae34933",
   "metadata": {},
   "outputs": [
    {
     "data": {
      "text/plain": [
       "{1, 2, 4}"
      ]
     },
     "execution_count": 22,
     "metadata": {},
     "output_type": "execute_result"
    }
   ],
   "source": [
    "set(j)"
   ]
  },
  {
   "cell_type": "code",
   "execution_count": 23,
   "id": "0b3a5f33-08f5-48eb-9254-4e0d881bbde9",
   "metadata": {},
   "outputs": [
    {
     "data": {
      "text/plain": [
       "[1, 2, 4]"
      ]
     },
     "execution_count": 23,
     "metadata": {},
     "output_type": "execute_result"
    }
   ],
   "source": [
    "list(set(j))"
   ]
  },
  {
   "cell_type": "code",
   "execution_count": 24,
   "id": "7932e8b6-2fde-4f39-8cde-140957071dd5",
   "metadata": {},
   "outputs": [
    {
     "data": {
      "text/plain": [
       "(1, 2, 4)"
      ]
     },
     "execution_count": 24,
     "metadata": {},
     "output_type": "execute_result"
    }
   ],
   "source": [
    "tuple(set(j))"
   ]
  },
  {
   "cell_type": "code",
   "execution_count": 25,
   "id": "029d495d-fc0f-49ef-8039-da2e9eb27a21",
   "metadata": {},
   "outputs": [
    {
     "ename": "TypeError",
     "evalue": "cannot convert dictionary update sequence element #0 to a sequence",
     "output_type": "error",
     "traceback": [
      "\u001b[1;31m---------------------------------------------------------------------------\u001b[0m",
      "\u001b[1;31mTypeError\u001b[0m                                 Traceback (most recent call last)",
      "Cell \u001b[1;32mIn[25], line 1\u001b[0m\n\u001b[1;32m----> 1\u001b[0m \u001b[38;5;28;43mdict\u001b[39;49m\u001b[43m(\u001b[49m\u001b[38;5;28;43mset\u001b[39;49m\u001b[43m(\u001b[49m\u001b[43mj\u001b[49m\u001b[43m)\u001b[49m\u001b[43m)\u001b[49m\n",
      "\u001b[1;31mTypeError\u001b[0m: cannot convert dictionary update sequence element #0 to a sequence"
     ]
    }
   ],
   "source": [
    "dict(set(j))"
   ]
  },
  {
   "cell_type": "code",
   "execution_count": 26,
   "id": "6793f0e4-a567-4d53-9727-92add14632ba",
   "metadata": {},
   "outputs": [
    {
     "name": "stdout",
     "output_type": "stream",
     "text": [
      "\f",
      "\n"
     ]
    }
   ],
   "source": [
    "clear"
   ]
  },
  {
   "cell_type": "code",
   "execution_count": null,
   "id": "231da059-9d2b-49ac-a44a-6901e716845f",
   "metadata": {},
   "outputs": [],
   "source": []
  }
 ],
 "metadata": {
  "kernelspec": {
   "display_name": "Python 3 (ipykernel)",
   "language": "python",
   "name": "python3"
  },
  "language_info": {
   "codemirror_mode": {
    "name": "ipython",
    "version": 3
   },
   "file_extension": ".py",
   "mimetype": "text/x-python",
   "name": "python",
   "nbconvert_exporter": "python",
   "pygments_lexer": "ipython3",
   "version": "3.10.9"
  }
 },
 "nbformat": 4,
 "nbformat_minor": 5
}
