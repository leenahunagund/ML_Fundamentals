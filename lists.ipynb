L = ["hello", "python", 9]
L #displays the contents of the list L
L[0]; L[2] #displays the items hello , 9 resp
L.pop() #pops the last element in the list
L.sort() #sorts the elements of the list in ascending order
L.append(9) #adds 9 to the the list at the end
