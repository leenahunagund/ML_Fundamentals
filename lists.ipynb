{
 "cells": [
  {
   "cell_type": "code",
   "execution_count": 6,
   "id": "971dc02c-61b1-49e2-8e97-a64400990e37",
   "metadata": {},
   "outputs": [
    {
     "data": {
      "text/plain": [
       "['hello', 'python', 9]"
      ]
     },
     "execution_count": 6,
     "metadata": {},
     "output_type": "execute_result"
    }
   ],
   "source": [
    "L = [\"hello\",\"python\",9]\n",
    "L\n"
   ]
  },
  {
   "cell_type": "code",
   "execution_count": 7,
   "id": "1850b80c-5a2a-4e04-a64d-304c9fa3c2d8",
   "metadata": {},
   "outputs": [
    {
     "data": {
      "text/plain": [
       "9"
      ]
     },
     "execution_count": 7,
     "metadata": {},
     "output_type": "execute_result"
    }
   ],
   "source": [
    "L[2]"
   ]
  },
  {
   "cell_type": "code",
   "execution_count": 8,
   "id": "aa6f8ceb-c7b3-4447-823d-d257073b031e",
   "metadata": {},
   "outputs": [
    {
     "data": {
      "text/plain": [
       "'hello'"
      ]
     },
     "execution_count": 8,
     "metadata": {},
     "output_type": "execute_result"
    }
   ],
   "source": [
    "L[0]"
   ]
  },
  {
   "cell_type": "code",
   "execution_count": 9,
   "id": "61dcd1b9-4523-45e0-86f7-89c7f0d31e19",
   "metadata": {},
   "outputs": [
    {
     "data": {
      "text/plain": [
       "9"
      ]
     },
     "execution_count": 9,
     "metadata": {},
     "output_type": "execute_result"
    }
   ],
   "source": [
    " L.pop()"
   ]
  },
  {
   "cell_type": "code",
   "execution_count": 10,
   "id": "edf73ff1-7d91-406c-a756-118c7a7f89b0",
   "metadata": {},
   "outputs": [
    {
     "data": {
      "text/plain": [
       "['hello', 'python']"
      ]
     },
     "execution_count": 10,
     "metadata": {},
     "output_type": "execute_result"
    }
   ],
   "source": [
    "L"
   ]
  },
  {
   "cell_type": "code",
   "execution_count": 11,
   "id": "b6b2f1dc-1a18-4c69-8d07-ceb19b24461c",
   "metadata": {},
   "outputs": [
    {
     "data": {
      "text/plain": [
       "'python'"
      ]
     },
     "execution_count": 11,
     "metadata": {},
     "output_type": "execute_result"
    }
   ],
   "source": [
    "L.pop()"
   ]
  },
  {
   "cell_type": "code",
   "execution_count": 12,
   "id": "254cfb11-aba5-4f0d-aec7-7a605e9ebf70",
   "metadata": {},
   "outputs": [
    {
     "data": {
      "text/plain": [
       "['hello']"
      ]
     },
     "execution_count": 12,
     "metadata": {},
     "output_type": "execute_result"
    }
   ],
   "source": [
    "L"
   ]
  },
  {
   "cell_type": "code",
   "execution_count": 17,
   "id": "30450aff-78b7-459c-b17b-788756913a8c",
   "metadata": {},
   "outputs": [
    {
     "data": {
      "text/plain": [
       "[1, 2, 4, 5, 7, 10]"
      ]
     },
     "execution_count": 17,
     "metadata": {},
     "output_type": "execute_result"
    }
   ],
   "source": [
    "P=[2,7,1,5,10,4]\n",
    "P.sort()\n",
    "P"
   ]
  },
  {
   "cell_type": "code",
   "execution_count": 18,
   "id": "c83d31c3-aca0-4808-b4a3-8fbc0fe6176a",
   "metadata": {},
   "outputs": [
    {
     "data": {
      "text/plain": [
       "[1, 2, 4, 5, 7, 10, 9]"
      ]
     },
     "execution_count": 18,
     "metadata": {},
     "output_type": "execute_result"
    }
   ],
   "source": [
    "P.append(9)\n",
    "P"
   ]
  },
  {
   "cell_type": "code",
   "execution_count": 19,
   "id": "1afe75f4-b02a-4146-abb5-568c65d95e8c",
   "metadata": {},
   "outputs": [
    {
     "data": {
      "text/plain": [
       "[1, 2, 4, 5, 7, 10, 9, 'hello']"
      ]
     },
     "execution_count": 19,
     "metadata": {},
     "output_type": "execute_result"
    }
   ],
   "source": [
    "P.extend(L)\n",
    "P"
   ]
  },
  {
   "cell_type": "code",
   "execution_count": 24,
   "id": "965cf299-eff3-477f-a8eb-1a9b70c5d2eb",
   "metadata": {},
   "outputs": [
    {
     "data": {
      "text/plain": [
       "[1, 2, 5, 7, 10, 9, 'hello']"
      ]
     },
     "execution_count": 24,
     "metadata": {},
     "output_type": "execute_result"
    }
   ],
   "source": [
    "P.remove(4)\n",
    "P"
   ]
  },
  {
   "cell_type": "code",
   "execution_count": 29,
   "id": "54834de7-8a08-4c22-86a4-06d26d825dc9",
   "metadata": {},
   "outputs": [
    {
     "data": {
      "text/plain": [
       "[1, 2, 5, 1, 6, 4, 10]"
      ]
     },
     "execution_count": 29,
     "metadata": {},
     "output_type": "execute_result"
    }
   ],
   "source": [
    "L=[1,2,5,1,6,4,10]\n",
    "L"
   ]
  },
  {
   "cell_type": "code",
   "execution_count": 30,
   "id": "082df04e-e541-48ac-956d-22c25543b19e",
   "metadata": {},
   "outputs": [],
   "source": [
    "L.remove(1)\n"
   ]
  },
  {
   "cell_type": "code",
   "execution_count": 31,
   "id": "4cf6e3f4-2c4e-4e42-90ca-c8112d825385",
   "metadata": {},
   "outputs": [
    {
     "data": {
      "text/plain": [
       "[2, 5, 1, 6, 4, 10]"
      ]
     },
     "execution_count": 31,
     "metadata": {},
     "output_type": "execute_result"
    }
   ],
   "source": [
    "L"
   ]
  },
  {
   "cell_type": "code",
   "execution_count": 34,
   "id": "ce394378-25ef-45e2-a3cd-55b39ac1bbd4",
   "metadata": {},
   "outputs": [],
   "source": [
    "L.insert(0,15)"
   ]
  },
  {
   "cell_type": "code",
   "execution_count": 36,
   "id": "ac583d4f-2c4d-44af-9951-843c2aad6d4e",
   "metadata": {},
   "outputs": [
    {
     "data": {
      "text/plain": [
       "[15, 'hi', 2, 5, 1, 6, 4, 10]"
      ]
     },
     "execution_count": 36,
     "metadata": {},
     "output_type": "execute_result"
    }
   ],
   "source": [
    "L"
   ]
  },
  {
   "cell_type": "code",
   "execution_count": 37,
   "id": "c4d9e946-eb2a-49d7-b691-bdd62bb5353a",
   "metadata": {},
   "outputs": [
    {
     "data": {
      "text/plain": [
       "[]"
      ]
     },
     "execution_count": 37,
     "metadata": {},
     "output_type": "execute_result"
    }
   ],
   "source": [
    "P.clear()\n",
    "P"
   ]
  },
  {
   "cell_type": "code",
   "execution_count": null,
   "id": "4ce1d5da-99bd-440e-b388-3d0d3c1317e4",
   "metadata": {},
   "outputs": [],
   "source": []
  }
 ],
 "metadata": {
  "kernelspec": {
   "display_name": "Python 3 (ipykernel)",
   "language": "python",
   "name": "python3"
  },
  "language_info": {
   "codemirror_mode": {
    "name": "ipython",
    "version": 3
   },
   "file_extension": ".py",
   "mimetype": "text/x-python",
   "name": "python",
   "nbconvert_exporter": "python",
   "pygments_lexer": "ipython3",
   "version": "3.10.9"
  }
 },
 "nbformat": 4,
 "nbformat_minor": 5
}
