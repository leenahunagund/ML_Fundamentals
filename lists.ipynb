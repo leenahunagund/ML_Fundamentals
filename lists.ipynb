L = ["hello", "python", 9]
L #displays the contents of the list L
L[0]; L[2] #displays the items hello , 9 resp

L.pop() #pops the last element in the list
L.sort() #sorts the elements of the list in ascending order
L.append(9) #adds 9 to the the list at the end
L.extend(P) #combines lists L and P
L.remove(number) #removes the particular number from the list
L.insert(index,value)
L.clear() #clears all the elements in list
L.count(value) #counts the frequency of the value
L.reverse() #reverses the list

dictionary={'1':1,'2':4, 'name'=Python}
dictionary{'name'} #returns/displays Python

dictionary.keys()
o/p: dict_keys(['1', '2', 'name'])
