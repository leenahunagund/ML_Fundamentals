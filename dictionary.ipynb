dictionary={'1':1,'2':4, 'name'=Python}
dictionary{'name'} #returns/displays Python

dictionary.keys()
o/p: dict_keys(['1', '2', 'name'])

dictionary.get('key') 
o/p: value of key

dictionary.pop('key')
o/p:pops the value of the key

dictionary.update({'hi':'hello'})
o/p: adds new value to dictionary

dictionary.values()
o/p:shows all values of keys

dictionary.items()
o/p:dict_items([('1', 1), ('name', 'python'), ('hi', 'hello')])

dictionary.popitem()
o/p: ('hi', 'hello')
dictionary
o/p: {'1': 1, 'name': 'python'}

dictionary.setdefault('o')
dictionary
o/p: {'1': 1, 'name': 'python', 'o': None}

dictionary['o']=65
dictionary
o/p: {'1': 1, 'name': 'python', 'o': 65}
