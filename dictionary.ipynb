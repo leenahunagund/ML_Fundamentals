dictionary= {'1':'a','2':'kernel','3':'Machine Learning'}
dictionary #displays {'1': 'a', '2': 'kernel', '3': 'Machine Learning'}

dictionary['1'] #displays 'a'
dictionary['2'] # 'kernel'
dictionary['3'] #d'Machine Learning'

dictionary.get('2')  # 'kernel'
dictionary.get('1') #'a'
dictionary.get('3') # 'Machine Learning'

dictionary.keys() # dict_keys(['1', '2', '3'])
dictionary.values() #dict_values(['a', 'kernel', 'Machine Learning'])

dictionary.pop('1') #pops 'a'
dictionary  # {'2': 'kernel', '3': 'Machine Learning'} 

dictionary.update({'4':'Neural Networks'}) 
dictionary # {'2': 'kernel', '3': 'Machine Learning', '4': 'Neural Networks'}

dictionary.popitem() #popped {'2': 'kernel', '3': 'Machine Learning', '4': 'Neural Networks'}

dictionary.setdefault('5')
dictionary #{'2': 'kernel', '3': 'Machine Learning', '5': None}

dictionary['5']=667 #appending value to constant
dictionary #{'2': 'kernel', '3': 'Machine Learning', '5': 667}

dictionary['2'] #accessing previously stored value
dictionary.items() #dict_items([('2', 'kernel'), ('3', 'Machine Learning'), ('5', 667)])

dictionary.clear()
dictionary #{}
