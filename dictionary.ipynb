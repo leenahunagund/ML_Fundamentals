dictionary={'1':1,'2':4, 'name'=Python}
dictionary{'name'} #returns/displays Python

dictionary.keys()
o/p: dict_keys(['1', '2', 'name'])

dictionary.get('key') 
o/p: value of key

dictionary.pop('key')
o/p:pops the value of the key

dictionary.update({'hi':'hello'})
o/p: adds new value to dictionary

dictionary.values()
o/p:shows all values of keys
