{
 "cells": [
  {
   "cell_type": "code",
   "execution_count": 39,
   "id": "787f21ec-8768-4c53-a064-47365654070b",
   "metadata": {},
   "outputs": [
    {
     "data": {
      "text/plain": [
       "{}"
      ]
     },
     "execution_count": 39,
     "metadata": {},
     "output_type": "execute_result"
    }
   ],
   "source": [
    "dictionary= {'1':'a','2':'kernel','3':'Machine Learning'}\n",
    "dictionary #displays {'1': 'a', '2': 'kernel', '3': 'Machine Learning'}\n",
    "\n",
    "dictionary['1'] #displays 'a'\n",
    "dictionary['2'] # 'kernel'\n",
    "dictionary['3'] #d'Machine Learning'\n",
    "\n",
    "dictionary.get('2')  # 'kernel'\n",
    "dictionary.get('1') #'a'\n",
    "dictionary.get('3') # 'Machine Learning'\n",
    "\n",
    "dictionary.keys() # dict_keys(['1', '2', '3'])\n",
    "dictionary.values() #dict_values(['a', 'kernel', 'Machine Learning'])\n",
    "\n",
    "dictionary.pop('1') #pops 'a'\n",
    "dictionary  # {'2': 'kernel', '3': 'Machine Learning'} \n",
    "\n",
    "dictionary.update({'4':'Neural Networks'}) \n",
    "dictionary # {'2': 'kernel', '3': 'Machine Learning', '4': 'Neural Networks'}\n",
    "\n",
    "dictionary.popitem() #popped {'2': 'kernel', '3': 'Machine Learning', '4': 'Neural Networks'}\n",
    "\n",
    "dictionary.setdefault('5')\n",
    "dictionary #{'2': 'kernel', '3': 'Machine Learning', '5': None}\n",
    "\n",
    "dictionary['5']=667 #appending value to constant\n",
    "dictionary #{'2': 'kernel', '3': 'Machine Learning', '5': 667}\n",
    "\n",
    "dictionary['2'] #accessing previously stored value\n",
    "dictionary.items() #dict_items([('2', 'kernel'), ('3', 'Machine Learning'), ('5', 667)])\n",
    "\n",
    "dictionary.clear()\n",
    "dictionary #{}"
   ]
  },
  {
   "cell_type": "code",
   "execution_count": null,
   "id": "5da01d79-392d-4dd3-bfea-a51323038925",
   "metadata": {},
   "outputs": [],
   "source": []
  },
  {
   "cell_type": "code",
   "execution_count": null,
   "id": "616e0e09-0f41-42be-be18-ecb770597ee6",
   "metadata": {},
   "outputs": [],
   "source": []
  }
 ],
 "metadata": {
  "kernelspec": {
   "display_name": "Python 3 (ipykernel)",
   "language": "python",
   "name": "python3"
  },
  "language_info": {
   "codemirror_mode": {
    "name": "ipython",
    "version": 3
   },
   "file_extension": ".py",
   "mimetype": "text/x-python",
   "name": "python",
   "nbconvert_exporter": "python",
   "pygments_lexer": "ipython3",
   "version": "3.10.9"
  }
 },
 "nbformat": 4,
 "nbformat_minor": 5
}
